{
 "cells": [
  {
   "cell_type": "code",
   "execution_count": 1,
   "metadata": {
    "ExecuteTime": {
     "end_time": "2020-12-29T01:39:00.619508Z",
     "start_time": "2020-12-29T01:38:58.145569Z"
    }
   },
   "outputs": [],
   "source": [
    "import itertools\n",
    "import os\n",
    "import sys\n",
    "from pathlib import Path\n",
    "\n",
    "import cv2\n",
    "import matplotlib.pyplot as plt\n",
    "import numpy as np\n",
    "import pandas as pd\n",
    "import skimage.io\n",
    "from skimage.registration import phase_cross_correlation"
   ]
  },
  {
   "cell_type": "code",
   "execution_count": 2,
   "metadata": {
    "ExecuteTime": {
     "end_time": "2020-12-29T01:39:00.779478Z",
     "start_time": "2020-12-29T01:39:00.622484Z"
    }
   },
   "outputs": [],
   "source": [
    "%load_ext autoreload\n",
    "%autoreload 2"
   ]
  },
  {
   "cell_type": "code",
   "execution_count": 3,
   "metadata": {
    "ExecuteTime": {
     "end_time": "2020-12-29T01:39:01.000504Z",
     "start_time": "2020-12-29T01:39:00.781481Z"
    }
   },
   "outputs": [],
   "source": [
    "# Import path \n",
    "module_path = str(Path.cwd().parents[0])\n",
    "if module_path not in sys.path:\n",
    "    sys.path.append(module_path)\n",
    "\n",
    "from config import *"
   ]
  },
  {
   "cell_type": "code",
   "execution_count": 4,
   "metadata": {
    "ExecuteTime": {
     "end_time": "2020-12-29T01:39:01.172419Z",
     "start_time": "2020-12-29T01:39:01.002431Z"
    }
   },
   "outputs": [
    {
     "name": "stdout",
     "output_type": "stream",
     "text": [
      "Processed image folder is already there\n",
      "No Info csv file\n"
     ]
    }
   ],
   "source": [
    "csv_file = data_meta / 'all_info.csv'\n",
    "csv_exist = csv_file.is_file()\n",
    "\n",
    "# Create directory if not existL\n",
    "try:\n",
    "    data_processed.mkdir(parents=True, exist_ok=False)\n",
    "except FileExistsError:\n",
    "    print(\"Processed image folder is already there\")\n",
    "else:\n",
    "    print(\"Processed image folder was created\")\n",
    "    \n",
    "if csv_exist:\n",
    "    print('Info csv file already exists')\n",
    "else:\n",
    "    print('No Info csv file')"
   ]
  },
  {
   "cell_type": "markdown",
   "metadata": {},
   "source": [
    "# Get folder information\n",
    "\n",
    "Read information to pandas dataframe of the image folder"
   ]
  },
  {
   "cell_type": "code",
   "execution_count": 5,
   "metadata": {
    "ExecuteTime": {
     "end_time": "2020-12-29T01:39:01.307420Z",
     "start_time": "2020-12-29T01:39:01.175417Z"
    }
   },
   "outputs": [],
   "source": [
    "channel2marker = {\n",
    "    'Cycle1':\n",
    "    {\n",
    "        'CH1' : 'Hoeschst', \n",
    "        'CH4' : 'WGA',\n",
    "        'CH3' : 'Phalloidin'\n",
    "    },\n",
    "    'Cycle2':\n",
    "    {\n",
    "        'CH1' : 'Hoeschst', \n",
    "        'CH2' : 'Cyclin E',\n",
    "        'CH3' : 'EMMPRIN',\n",
    "        'CH4' : 'Wnt1'\n",
    "    },\n",
    "    'Cycle3':\n",
    "    {\n",
    "        'CH1' : 'Hoeschst', \n",
    "        'CH2' : 'Non-phospho-B-catenin',\n",
    "        'CH3' : 'APC',\n",
    "        'CH4' : 'DKK1'\n",
    "    },\n",
    "    'Cycle4':\n",
    "    {\n",
    "        'CH1' : 'Hoeschst', \n",
    "        'CH3' : 'AXIN1',\n",
    "        'CH2' : 'DKK2'\n",
    "    },\n",
    "    'Cycle5':\n",
    "    {\n",
    "        'CH1' : 'Hoeschst', \n",
    "        'CH3' : 'Cyclin D1'\n",
    "    },\n",
    "    'Cycle6':\n",
    "    {\n",
    "        'CH1' : 'Hoeschst', \n",
    "        'CH2' : 'p-AKT',\n",
    "        'CH3' : 'phospho-B-catenin',\n",
    "        'CH4' : 'RNF 43'\n",
    "    },\n",
    "    'Cycle7':\n",
    "    {\n",
    "        'CH1' : 'Hoeschst',\n",
    "        'CH2' : 'AKT',\n",
    "        'CH3' : 'p-mTOR',\n",
    "        'CH4' : 'mTOR'\n",
    "    },\n",
    "    'Cycle8':\n",
    "    {\n",
    "        'CH1' : 'Hoeschst', \n",
    "        'CH2' : 'Concanavalin A'\n",
    "    }\n",
    "}\n",
    "\n",
    "def get_info(img_folder, name_dict = channel2marker, save=False):\n",
    "    '''Function returns the info from folder containing multi-cycle staigning on cell\n",
    "    \n",
    "    Args: \n",
    "        img_folder (str) : imgage folder path to get information\n",
    "        name_dict (dict) : three level dictionnary mapping cycle -> channel -> marker name\n",
    "        \n",
    "    Returns:\n",
    "        pandas dataframe with information\n",
    "    '''\n",
    "    conditions = []\n",
    "    cycles = []\n",
    "    z_stacks = []\n",
    "    channels = []\n",
    "    images_path = []\n",
    "    markers = []\n",
    "\n",
    "    # Loop through image folder\n",
    "    for (dirpath, dirnames, filenames) in os.walk(img_folder):\n",
    "        for name in sorted(filenames):\n",
    "            if 'AftBleach' not in dirpath:            \n",
    "                if 'tif' in name and 'Overlay' not in name and 'FF' not in name:\n",
    "                    # Get information from image name \n",
    "                    condition = dirpath[-3:]\n",
    "                    z_stack = '_'.join(name.split('_')[2:3])\n",
    "                    channel = name.split('_')[-1].split('.')[0]\n",
    "                    cycle = dirpath.split('\\\\')[-1].split('_')[1]\n",
    "                    \n",
    "                    # Cycle 1 only have autoexposure condition\n",
    "                    if cycle != 'Cycle1':\n",
    "                        if 'Ac' in condition or 'Aw' in condition:\n",
    "                            continue\n",
    "                    \n",
    "                    if z_stack == \"\":\n",
    "                        continue\n",
    "                        \n",
    "                    # Don't use stiched images for now\n",
    "                    if condition == '3x3':\n",
    "                        continue\n",
    "                        \n",
    "                    markers.append(name_dict[cycle][channel])\n",
    "                    \n",
    "                    location = condition[-1]\n",
    "                    cycles.append(cycle)\n",
    "                    conditions.append(location)\n",
    "                    z_stacks.append(int(z_stack[1:]))\n",
    "                    channels.append(channel)\n",
    "                    images_path.append(os.path.join(dirpath,name))\n",
    "\n",
    "    info = {'Cycle':cycles, 'Location':conditions, 'Z_stack': z_stacks, 'Channel': channels, 'Marker': markers,'Path': images_path}\n",
    "\n",
    "    df = pd.DataFrame(info)\n",
    "    \n",
    "    if save == True:\n",
    "        df.to_csv(data_meta / 'info.csv', index=False)\n",
    "        \n",
    "    df.Z_stack = pd.to_numeric(df.Z_stack)\n",
    "    \n",
    "    df['Path_corrected'] = ''\n",
    "    \n",
    "    return df"
   ]
  },
  {
   "cell_type": "code",
   "execution_count": 6,
   "metadata": {
    "ExecuteTime": {
     "end_time": "2020-12-29T01:39:02.358359Z",
     "start_time": "2020-12-29T01:39:01.310419Z"
    }
   },
   "outputs": [
    {
     "name": "stdout",
     "output_type": "stream",
     "text": [
      "Created pandas dataframe\n"
     ]
    }
   ],
   "source": [
    "if not csv_exist:\n",
    "    df = get_info(data_raw, save=True)\n",
    "    print('Created pandas dataframe')\n",
    "else:\n",
    "    df = pd.read_csv(csv_file)\n",
    "    print('Imported pandas dataframe')"
   ]
  },
  {
   "cell_type": "markdown",
   "metadata": {},
   "source": [
    "# Image background subtraction\n",
    "\n",
    "Image shadding correction using background subtration of gaussian blurr"
   ]
  },
  {
   "cell_type": "code",
   "execution_count": 7,
   "metadata": {
    "ExecuteTime": {
     "end_time": "2020-12-29T01:39:02.487363Z",
     "start_time": "2020-12-29T01:39:02.361361Z"
    }
   },
   "outputs": [],
   "source": [
    "def extract_condition_channel(df, cycle, condition, channel):\n",
    "    '''Function returns dataframe of specified channel image based on condition from input dataframe\n",
    "    \n",
    "    Args: \n",
    "        df (pd DataFrame) : info dataframe for all images \n",
    "        condition (str) : condition name\n",
    "        \n",
    "    Returns:\n",
    "        pandas dataframe with information\n",
    "    '''\n",
    "    return df[(df['Location'] == condition) & (df['Channel'] == channel) & (df['Cycle'] == cycle)]\n",
    "\n",
    "def background_correction(df, filtersize = 1025, sigma = 256, folder = data_processed, save=False, show=False):\n",
    "    '''Function to perform background substraction for image using gaussian blurr of original image \n",
    "    \n",
    "    Args: \n",
    "        df (pd DataFrame) : info dataframe for all images \n",
    "        filtersize (int) : filter size of gaussian kernel\n",
    "        sigma (int) : sigma of guassian blurr\n",
    "        folder (str) : folder to save corrected images\n",
    "        save (bool) : bool to save the image\n",
    "        show (bool) : bool to show corrected image and gaussian blur of original image\n",
    "        \n",
    "    Returns:\n",
    "        None\n",
    "    '''\n",
    "    # Loop through the rows of the dataframe\n",
    "    for row in df.itertuples():\n",
    "        # Read image\n",
    "        img = skimage.io.imread(row.Path)\n",
    "        \n",
    "        if len(img.shape) > 2:\n",
    "            img = img[:,:,0]\n",
    "        \n",
    "        # Define saving filename for corrected image\n",
    "        filename = '_'.join([row.Location, str(row.Z_stack), row.Cycle, row.Marker])\n",
    "        path = os.path.join(folder,filename+'.tiff')\n",
    "        \n",
    "        # Don't need background substraction for cycle 1 and 8\n",
    "        if row.Cycle == 'Cycle1' or row.Cycle == 'Cycle8':\n",
    "            if save:\n",
    "                cv2.imwrite(path, img) \n",
    "                df.at[row.Index,'Path_corrected'] = path\n",
    "            continue\n",
    "        \n",
    "        # Background substraction using gaussian blur channel\n",
    "        gaussianImg = cv2.GaussianBlur(img, (filtersize, filtersize), sigma)\n",
    "        img_corrected = cv2.subtract(img,gaussianImg)\n",
    "        \n",
    "        # Save image\n",
    "        if save:\n",
    "            cv2.imwrite(path, img_corrected) \n",
    "            df.at[row.Index,'Path_corrected'] = path\n",
    "        \n",
    "        # Show correction\n",
    "        if show:\n",
    "            fig = plt.figure(figsize=(25, 7))\n",
    "            ax1 = plt.subplot(1, 3, 1)\n",
    "            ax2 = plt.subplot(1, 3, 2)\n",
    "            ax3 = plt.subplot(1, 3, 3)\n",
    "\n",
    "            ax1.imshow(img, alpha=1)\n",
    "            ax1.set_axis_off()\n",
    "            ax1.set_title('Original Image')\n",
    "\n",
    "            ax2.imshow(img_corrected, alpha=1)\n",
    "            ax2.set_axis_off()\n",
    "            ax2.set_title('Corrected image')\n",
    "\n",
    "            ax3.imshow(gaussianImg, cmap='gray', alpha=1)\n",
    "            ax3.set_axis_off()\n",
    "            ax3.set_title('Background image')\n",
    "            plt.show()"
   ]
  },
  {
   "cell_type": "code",
   "execution_count": 8,
   "metadata": {
    "ExecuteTime": {
     "end_time": "2020-12-29T02:16:26.333649Z",
     "start_time": "2020-12-29T01:39:02.489358Z"
    }
   },
   "outputs": [
    {
     "name": "stdout",
     "output_type": "stream",
     "text": [
      "Created images with background correction\n"
     ]
    }
   ],
   "source": [
    "if not csv_file.is_file():\n",
    "    background_correction(df, save=True)\n",
    "    df.to_csv(csv_file, index=False)\n",
    "    print('Created images with background correction')"
   ]
  },
  {
   "cell_type": "markdown",
   "metadata": {},
   "source": [
    "# Image registration\n",
    "\n",
    "Image registration using the DAPI channel across images"
   ]
  },
  {
   "cell_type": "code",
   "execution_count": 9,
   "metadata": {
    "ExecuteTime": {
     "end_time": "2020-12-29T02:16:26.588640Z",
     "start_time": "2020-12-29T02:16:26.337645Z"
    }
   },
   "outputs": [],
   "source": [
    "def get_shift_within_cycle(df):\n",
    "    '''Function to get shift within each cycle of the DAPI channel \n",
    "    \n",
    "    Args: \n",
    "        df (pd DataFrame) : info dataframe for images \n",
    "        \n",
    "    Returns:\n",
    "        print shift values between each level\n",
    "    '''\n",
    "    # Get elements of DAPI channel\n",
    "    df = df[df['Marker'] == 'Hoeschst']\n",
    "\n",
    "    # Loop through condition\n",
    "    for condition in df.Location.unique():\n",
    "        for cycle in df.Cycle.unique():\n",
    "            # Read the cycle info and z level of 1 for reference dapi channel\n",
    "            temp = df[(df.Cycle == cycle) & (df.Location == condition)]\n",
    "            reference = temp[temp.Z_stack == 1]\n",
    "            reference_dapi = skimage.io.imread(reference.Path_corrected.item())\n",
    "\n",
    "            # number of z level in this cycle\n",
    "            n_channel = temp.Z_stack.max()+1\n",
    "            \n",
    "            # Get shift between z level \n",
    "            for i in range(2, n_channel):\n",
    "                img_dapi = skimage.io.imread(temp[temp.Z_stack == i].Path_corrected.item())\n",
    "                try:\n",
    "                    shift, error, diffphase = phase_cross_correlation(reference_dapi, img_dapi)\n",
    "                except ValueError as err:\n",
    "                    print(err)\n",
    "                    print(str(temp[temp.Z_stack == i].Path_corrected.item()))\n",
    "                    print(str(reference.Path_corrected.item()))\n",
    "                print(f\"For {cycle} detected subpixel offset ({shift[0]}, {shift[1]}) between level 1 and level {i} stack for location {condition}\")\n",
    "            \n",
    "def get_shift_between_cycle(df):\n",
    "    '''Function to get shift within each cycle for the DAPI channel\n",
    "    \n",
    "    Args: \n",
    "        df (pd DataFrame) : info dataframe for images in dapi channel accross cycle\n",
    "        \n",
    "    Returns:\n",
    "        shift dictionnary\n",
    "    '''\n",
    "    # Get elements of DAPI channel\n",
    "    df = df[df['Marker'] == 'Hoeschst']\n",
    "    \n",
    "    # Get shift between cycle\n",
    "    cycles = df.Cycle.unique()\n",
    "    conditions = df.Location.unique()\n",
    "    shift_dict = {}\n",
    "    for condition in conditions:\n",
    "        # Get subset of specific condition\n",
    "        df_subset = df[df.Location == condition]\n",
    "        \n",
    "        # Get reference cycle\n",
    "        temp = df_subset[df_subset.Cycle == cycles[0]]  \n",
    "        reference = temp[temp.Z_stack == 1]\n",
    "        reference_dapi = skimage.io.imread(reference.Path_corrected.item())\n",
    "    \n",
    "        # Define shift dictionnary\n",
    "        shift_dict[condition] = {}\n",
    "\n",
    "        # Max shift accross all cycle:\n",
    "        max_shift_x = 0\n",
    "        min_shift_x = 0\n",
    "        max_shift_y = 0\n",
    "        min_shift_y = 0\n",
    "\n",
    "        for cycle in cycles[1:]:\n",
    "            temp = df_subset[df_subset.Cycle == cycle]    \n",
    "            img_dapi = skimage.io.imread(temp[temp.Z_stack == 1].Path_corrected.item())\n",
    "\n",
    "            # Get image shift y and x and save to shift_dict\n",
    "            try:\n",
    "                shift, _, _ = phase_cross_correlation(reference_dapi, img_dapi) # Shift vector required to register moving images with reference images. Axis orderingis constitent with Y,X\n",
    "            except ValueError as err:\n",
    "                print(err)\n",
    "                print(str(temp[temp.Z_stack == 1].Path_corrected.item()))\n",
    "                print(str(reference.Path_corrected.item()))\n",
    "            print(f\"For {cycle} detected subpixel offset ({shift[0]}, {shift[1]}) compared to {cycles[0]} for location {condition}\")\n",
    "            shift_y, shift_x = shift[0], shift[1]\n",
    "            shift_dict[condition][cycle] = {'shift_x':shift_x, 'shift_y':shift_y}\n",
    "\n",
    "            # Update max shift\n",
    "            max_shift_x = shift_x if shift_x > max_shift_x else max_shift_x\n",
    "            min_shift_x = shift_x if shift_x < min_shift_x else min_shift_x\n",
    "            max_shift_y = shift_y if shift_y > max_shift_y else max_shift_y\n",
    "            min_shift_y = shift_y if shift_y < min_shift_y else min_shift_y\n",
    "\n",
    "        max_shift_x = int(max_shift_x)\n",
    "        min_shift_x = int(min_shift_x)\n",
    "        max_shift_y = int(max_shift_y)\n",
    "        min_shift_y = int(min_shift_y)\n",
    "\n",
    "        shift_dict[condition]['max'] = {'max_shift_x':max_shift_x, 'min_shift_x':min_shift_x, 'max_shift_y':max_shift_y, 'min_shift_y':min_shift_y}\n",
    "\n",
    "    return shift_dict\n",
    "\n",
    "def shift_crop(df, shift_dict, save = True):\n",
    "    '''Function to shift and crop image based on shift_dict of pixels\n",
    "    \n",
    "    Args: \n",
    "        df (pd DataFrame) : info dataframe for images \n",
    "        shift_dict (dict) : shfit dictionnary between each cycle by condition\n",
    "        save (bool) : bool to save the images\n",
    "        \n",
    "    Returns:\n",
    "        None\n",
    "    '''\n",
    "    # Iterate over condition\n",
    "    for condition in df.Location.unique():\n",
    "        shift_dict_subset = shift_dict[condition]\n",
    "        \n",
    "        # Get max shift values\n",
    "        max_shift_x = shift_dict_subset['max']['max_shift_x']\n",
    "        min_shift_x = shift_dict_subset['max']['min_shift_x']\n",
    "        max_shift_y = shift_dict_subset['max']['max_shift_y']\n",
    "        min_shift_y = shift_dict_subset['max']['min_shift_y']\n",
    "    \n",
    "        # Get dataframe subset corresponding to condition \n",
    "        df_subset = df[df.Location == condition]\n",
    "        \n",
    "        # iterate over rows:\n",
    "        for row in df_subset.itertuples():\n",
    "            img = skimage.io.imread(row.Path_corrected)\n",
    "            condition = row.Location\n",
    "\n",
    "            # If not in shift dict then reference\n",
    "            if row.Cycle not in shift_dict_subset.keys():\n",
    "                # Crop image\n",
    "                res_cropped = img[max_shift_y: min_shift_y, max_shift_x:min_shift_x]\n",
    "                \n",
    "            else:\n",
    "                # Aplly shift \n",
    "                shift_x, shift_y = shift_dict_subset[row.Cycle]['shift_x'], shift_dict_subset[row.Cycle]['shift_y']\n",
    "                rows,cols = img.shape\n",
    "                M = np.float32([[1,0,shift_x],[0,1,shift_y]])\n",
    "                res = cv2.warpAffine(img, M, (cols, rows)) \n",
    "\n",
    "                # Crop image\n",
    "                res_cropped = res[max_shift_y: min_shift_y, max_shift_x:min_shift_x]\n",
    "                \n",
    "            if save: \n",
    "                cv2.imwrite(row.Path_corrected, res_cropped)"
   ]
  },
  {
   "cell_type": "code",
   "execution_count": 10,
   "metadata": {
    "ExecuteTime": {
     "end_time": "2020-12-29T02:19:06.033614Z",
     "start_time": "2020-12-29T02:16:26.592639Z"
    },
    "scrolled": false
   },
   "outputs": [
    {
     "name": "stdout",
     "output_type": "stream",
     "text": [
      "For Cycle1 detected subpixel offset (0.0, 0.0) between level 1 and level 2 stack for location 1\n",
      "For Cycle1 detected subpixel offset (0.0, 0.0) between level 1 and level 3 stack for location 1\n",
      "For Cycle1 detected subpixel offset (0.0, 0.0) between level 1 and level 4 stack for location 1\n",
      "For Cycle1 detected subpixel offset (0.0, 0.0) between level 1 and level 5 stack for location 1\n",
      "For Cycle1 detected subpixel offset (0.0, 0.0) between level 1 and level 6 stack for location 1\n",
      "For Cycle1 detected subpixel offset (0.0, 0.0) between level 1 and level 7 stack for location 1\n",
      "For Cycle1 detected subpixel offset (0.0, 0.0) between level 1 and level 8 stack for location 1\n",
      "For Cycle1 detected subpixel offset (0.0, 0.0) between level 1 and level 9 stack for location 1\n",
      "For Cycle1 detected subpixel offset (0.0, 0.0) between level 1 and level 10 stack for location 1\n",
      "For Cycle2 detected subpixel offset (0.0, 0.0) between level 1 and level 2 stack for location 1\n",
      "For Cycle2 detected subpixel offset (0.0, 0.0) between level 1 and level 3 stack for location 1\n",
      "For Cycle2 detected subpixel offset (0.0, 0.0) between level 1 and level 4 stack for location 1\n",
      "For Cycle2 detected subpixel offset (0.0, 0.0) between level 1 and level 5 stack for location 1\n",
      "For Cycle2 detected subpixel offset (0.0, 0.0) between level 1 and level 6 stack for location 1\n",
      "For Cycle3 detected subpixel offset (0.0, 0.0) between level 1 and level 2 stack for location 1\n",
      "For Cycle3 detected subpixel offset (0.0, 0.0) between level 1 and level 3 stack for location 1\n",
      "For Cycle3 detected subpixel offset (0.0, 0.0) between level 1 and level 4 stack for location 1\n",
      "For Cycle3 detected subpixel offset (0.0, 0.0) between level 1 and level 5 stack for location 1\n",
      "For Cycle3 detected subpixel offset (0.0, 0.0) between level 1 and level 6 stack for location 1\n",
      "For Cycle3 detected subpixel offset (0.0, 0.0) between level 1 and level 7 stack for location 1\n",
      "For Cycle3 detected subpixel offset (0.0, 1.0) between level 1 and level 8 stack for location 1\n",
      "For Cycle3 detected subpixel offset (0.0, 0.0) between level 1 and level 9 stack for location 1\n",
      "For Cycle3 detected subpixel offset (0.0, 0.0) between level 1 and level 10 stack for location 1\n",
      "For Cycle4 detected subpixel offset (0.0, 0.0) between level 1 and level 2 stack for location 1\n",
      "For Cycle4 detected subpixel offset (0.0, 0.0) between level 1 and level 3 stack for location 1\n",
      "For Cycle4 detected subpixel offset (0.0, 0.0) between level 1 and level 4 stack for location 1\n",
      "For Cycle4 detected subpixel offset (0.0, 0.0) between level 1 and level 5 stack for location 1\n",
      "For Cycle4 detected subpixel offset (0.0, 0.0) between level 1 and level 6 stack for location 1\n",
      "For Cycle4 detected subpixel offset (0.0, 0.0) between level 1 and level 7 stack for location 1\n",
      "For Cycle4 detected subpixel offset (0.0, 0.0) between level 1 and level 8 stack for location 1\n",
      "For Cycle4 detected subpixel offset (0.0, 0.0) between level 1 and level 9 stack for location 1\n",
      "For Cycle4 detected subpixel offset (-1.0, 0.0) between level 1 and level 10 stack for location 1\n",
      "For Cycle5 detected subpixel offset (0.0, 0.0) between level 1 and level 2 stack for location 1\n",
      "For Cycle5 detected subpixel offset (0.0, 0.0) between level 1 and level 3 stack for location 1\n",
      "For Cycle5 detected subpixel offset (0.0, 0.0) between level 1 and level 4 stack for location 1\n",
      "For Cycle5 detected subpixel offset (0.0, 0.0) between level 1 and level 5 stack for location 1\n",
      "For Cycle5 detected subpixel offset (0.0, 0.0) between level 1 and level 6 stack for location 1\n",
      "For Cycle5 detected subpixel offset (0.0, 0.0) between level 1 and level 7 stack for location 1\n",
      "For Cycle5 detected subpixel offset (0.0, 0.0) between level 1 and level 8 stack for location 1\n",
      "For Cycle5 detected subpixel offset (0.0, 0.0) between level 1 and level 9 stack for location 1\n",
      "For Cycle5 detected subpixel offset (0.0, 0.0) between level 1 and level 10 stack for location 1\n",
      "For Cycle6 detected subpixel offset (0.0, 0.0) between level 1 and level 2 stack for location 1\n",
      "For Cycle6 detected subpixel offset (0.0, 0.0) between level 1 and level 3 stack for location 1\n",
      "For Cycle6 detected subpixel offset (0.0, 0.0) between level 1 and level 4 stack for location 1\n",
      "For Cycle6 detected subpixel offset (0.0, 0.0) between level 1 and level 5 stack for location 1\n",
      "For Cycle6 detected subpixel offset (0.0, 0.0) between level 1 and level 6 stack for location 1\n",
      "For Cycle7 detected subpixel offset (0.0, 0.0) between level 1 and level 2 stack for location 1\n",
      "For Cycle7 detected subpixel offset (0.0, 0.0) between level 1 and level 3 stack for location 1\n",
      "For Cycle7 detected subpixel offset (0.0, 0.0) between level 1 and level 4 stack for location 1\n",
      "For Cycle7 detected subpixel offset (0.0, 0.0) between level 1 and level 5 stack for location 1\n",
      "For Cycle7 detected subpixel offset (0.0, 0.0) between level 1 and level 6 stack for location 1\n",
      "For Cycle8 detected subpixel offset (0.0, 0.0) between level 1 and level 2 stack for location 1\n",
      "For Cycle8 detected subpixel offset (0.0, 0.0) between level 1 and level 3 stack for location 1\n",
      "For Cycle8 detected subpixel offset (0.0, 0.0) between level 1 and level 4 stack for location 1\n",
      "For Cycle8 detected subpixel offset (0.0, 0.0) between level 1 and level 5 stack for location 1\n",
      "For Cycle8 detected subpixel offset (0.0, 0.0) between level 1 and level 6 stack for location 1\n",
      "For Cycle8 detected subpixel offset (0.0, 0.0) between level 1 and level 7 stack for location 1\n",
      "For Cycle8 detected subpixel offset (0.0, 0.0) between level 1 and level 8 stack for location 1\n",
      "For Cycle8 detected subpixel offset (0.0, 0.0) between level 1 and level 9 stack for location 1\n",
      "For Cycle8 detected subpixel offset (0.0, 0.0) between level 1 and level 10 stack for location 1\n",
      "For Cycle8 detected subpixel offset (-1.0, 0.0) between level 1 and level 11 stack for location 1\n",
      "For Cycle8 detected subpixel offset (-1.0, 0.0) between level 1 and level 12 stack for location 1\n",
      "For Cycle8 detected subpixel offset (-1.0, 0.0) between level 1 and level 13 stack for location 1\n",
      "For Cycle8 detected subpixel offset (-1.0, 0.0) between level 1 and level 14 stack for location 1\n",
      "For Cycle8 detected subpixel offset (-1.0, 0.0) between level 1 and level 15 stack for location 1\n",
      "For Cycle8 detected subpixel offset (-1.0, 0.0) between level 1 and level 16 stack for location 1\n",
      "For Cycle8 detected subpixel offset (-1.0, 0.0) between level 1 and level 17 stack for location 1\n",
      "For Cycle8 detected subpixel offset (-1.0, 0.0) between level 1 and level 18 stack for location 1\n",
      "For Cycle8 detected subpixel offset (-1.0, 0.0) between level 1 and level 19 stack for location 1\n",
      "For Cycle1 detected subpixel offset (0.0, 0.0) between level 1 and level 2 stack for location 2\n",
      "For Cycle1 detected subpixel offset (0.0, 0.0) between level 1 and level 3 stack for location 2\n",
      "For Cycle1 detected subpixel offset (0.0, 0.0) between level 1 and level 4 stack for location 2\n",
      "For Cycle1 detected subpixel offset (0.0, 0.0) between level 1 and level 5 stack for location 2\n",
      "For Cycle1 detected subpixel offset (0.0, 0.0) between level 1 and level 6 stack for location 2\n",
      "For Cycle2 detected subpixel offset (0.0, 0.0) between level 1 and level 2 stack for location 2\n",
      "For Cycle2 detected subpixel offset (0.0, 0.0) between level 1 and level 3 stack for location 2\n",
      "For Cycle2 detected subpixel offset (0.0, 1.0) between level 1 and level 4 stack for location 2\n",
      "For Cycle2 detected subpixel offset (0.0, 1.0) between level 1 and level 5 stack for location 2\n",
      "For Cycle2 detected subpixel offset (0.0, 0.0) between level 1 and level 6 stack for location 2\n",
      "For Cycle3 detected subpixel offset (0.0, 0.0) between level 1 and level 2 stack for location 2\n",
      "For Cycle3 detected subpixel offset (0.0, 0.0) between level 1 and level 3 stack for location 2\n",
      "For Cycle3 detected subpixel offset (0.0, 0.0) between level 1 and level 4 stack for location 2\n",
      "For Cycle3 detected subpixel offset (0.0, 0.0) between level 1 and level 5 stack for location 2\n",
      "For Cycle3 detected subpixel offset (0.0, 0.0) between level 1 and level 6 stack for location 2\n",
      "For Cycle3 detected subpixel offset (0.0, 0.0) between level 1 and level 7 stack for location 2\n"
     ]
    },
    {
     "name": "stdout",
     "output_type": "stream",
     "text": [
      "For Cycle3 detected subpixel offset (0.0, 0.0) between level 1 and level 8 stack for location 2\n",
      "For Cycle3 detected subpixel offset (0.0, 0.0) between level 1 and level 9 stack for location 2\n",
      "For Cycle3 detected subpixel offset (0.0, 0.0) between level 1 and level 10 stack for location 2\n",
      "For Cycle4 detected subpixel offset (0.0, 0.0) between level 1 and level 2 stack for location 2\n",
      "For Cycle4 detected subpixel offset (0.0, 0.0) between level 1 and level 3 stack for location 2\n",
      "For Cycle4 detected subpixel offset (0.0, 0.0) between level 1 and level 4 stack for location 2\n",
      "For Cycle4 detected subpixel offset (0.0, 0.0) between level 1 and level 5 stack for location 2\n",
      "For Cycle4 detected subpixel offset (0.0, 0.0) between level 1 and level 6 stack for location 2\n",
      "For Cycle4 detected subpixel offset (0.0, 0.0) between level 1 and level 7 stack for location 2\n",
      "For Cycle4 detected subpixel offset (0.0, 0.0) between level 1 and level 8 stack for location 2\n",
      "For Cycle4 detected subpixel offset (0.0, 0.0) between level 1 and level 9 stack for location 2\n",
      "For Cycle4 detected subpixel offset (0.0, 0.0) between level 1 and level 10 stack for location 2\n",
      "For Cycle5 detected subpixel offset (0.0, 0.0) between level 1 and level 2 stack for location 2\n",
      "For Cycle5 detected subpixel offset (0.0, 0.0) between level 1 and level 3 stack for location 2\n",
      "For Cycle5 detected subpixel offset (0.0, 0.0) between level 1 and level 4 stack for location 2\n",
      "For Cycle5 detected subpixel offset (0.0, 0.0) between level 1 and level 5 stack for location 2\n",
      "For Cycle5 detected subpixel offset (0.0, 0.0) between level 1 and level 6 stack for location 2\n",
      "For Cycle5 detected subpixel offset (0.0, 0.0) between level 1 and level 7 stack for location 2\n",
      "For Cycle5 detected subpixel offset (0.0, 0.0) between level 1 and level 8 stack for location 2\n",
      "For Cycle5 detected subpixel offset (0.0, 0.0) between level 1 and level 9 stack for location 2\n",
      "For Cycle5 detected subpixel offset (0.0, 0.0) between level 1 and level 10 stack for location 2\n",
      "For Cycle6 detected subpixel offset (0.0, 0.0) between level 1 and level 2 stack for location 2\n",
      "For Cycle6 detected subpixel offset (0.0, 0.0) between level 1 and level 3 stack for location 2\n",
      "For Cycle6 detected subpixel offset (0.0, 0.0) between level 1 and level 4 stack for location 2\n",
      "For Cycle6 detected subpixel offset (1.0, 0.0) between level 1 and level 5 stack for location 2\n",
      "For Cycle6 detected subpixel offset (0.0, 0.0) between level 1 and level 6 stack for location 2\n",
      "For Cycle7 detected subpixel offset (0.0, 0.0) between level 1 and level 2 stack for location 2\n",
      "For Cycle7 detected subpixel offset (0.0, 0.0) between level 1 and level 3 stack for location 2\n",
      "For Cycle7 detected subpixel offset (0.0, 0.0) between level 1 and level 4 stack for location 2\n",
      "For Cycle7 detected subpixel offset (0.0, 0.0) between level 1 and level 5 stack for location 2\n",
      "For Cycle7 detected subpixel offset (0.0, 0.0) between level 1 and level 6 stack for location 2\n",
      "For Cycle7 detected subpixel offset (0.0, 0.0) between level 1 and level 7 stack for location 2\n",
      "For Cycle7 detected subpixel offset (0.0, 0.0) between level 1 and level 8 stack for location 2\n",
      "For Cycle7 detected subpixel offset (0.0, 0.0) between level 1 and level 9 stack for location 2\n",
      "For Cycle7 detected subpixel offset (0.0, 0.0) between level 1 and level 10 stack for location 2\n",
      "For Cycle8 detected subpixel offset (0.0, 0.0) between level 1 and level 2 stack for location 2\n",
      "For Cycle8 detected subpixel offset (0.0, 0.0) between level 1 and level 3 stack for location 2\n",
      "For Cycle8 detected subpixel offset (0.0, 0.0) between level 1 and level 4 stack for location 2\n",
      "For Cycle8 detected subpixel offset (0.0, 0.0) between level 1 and level 5 stack for location 2\n",
      "For Cycle8 detected subpixel offset (0.0, 0.0) between level 1 and level 6 stack for location 2\n",
      "For Cycle1 detected subpixel offset (0.0, 0.0) between level 1 and level 2 stack for location 3\n",
      "For Cycle1 detected subpixel offset (0.0, 0.0) between level 1 and level 3 stack for location 3\n",
      "For Cycle1 detected subpixel offset (0.0, 0.0) between level 1 and level 4 stack for location 3\n",
      "For Cycle1 detected subpixel offset (0.0, 0.0) between level 1 and level 5 stack for location 3\n",
      "For Cycle1 detected subpixel offset (0.0, 0.0) between level 1 and level 6 stack for location 3\n",
      "For Cycle1 detected subpixel offset (0.0, 0.0) between level 1 and level 7 stack for location 3\n",
      "For Cycle1 detected subpixel offset (0.0, 0.0) between level 1 and level 8 stack for location 3\n",
      "For Cycle1 detected subpixel offset (0.0, 0.0) between level 1 and level 9 stack for location 3\n",
      "For Cycle1 detected subpixel offset (0.0, 0.0) between level 1 and level 10 stack for location 3\n",
      "For Cycle2 detected subpixel offset (0.0, 0.0) between level 1 and level 2 stack for location 3\n",
      "For Cycle2 detected subpixel offset (0.0, 0.0) between level 1 and level 3 stack for location 3\n",
      "For Cycle2 detected subpixel offset (0.0, 0.0) between level 1 and level 4 stack for location 3\n",
      "For Cycle2 detected subpixel offset (0.0, 0.0) between level 1 and level 5 stack for location 3\n",
      "For Cycle2 detected subpixel offset (0.0, 0.0) between level 1 and level 6 stack for location 3\n",
      "For Cycle3 detected subpixel offset (0.0, 0.0) between level 1 and level 2 stack for location 3\n",
      "For Cycle3 detected subpixel offset (0.0, 0.0) between level 1 and level 3 stack for location 3\n",
      "For Cycle3 detected subpixel offset (0.0, 0.0) between level 1 and level 4 stack for location 3\n",
      "For Cycle3 detected subpixel offset (0.0, 0.0) between level 1 and level 5 stack for location 3\n",
      "For Cycle3 detected subpixel offset (0.0, 0.0) between level 1 and level 6 stack for location 3\n",
      "For Cycle4 detected subpixel offset (0.0, 0.0) between level 1 and level 2 stack for location 3\n",
      "For Cycle4 detected subpixel offset (0.0, 0.0) between level 1 and level 3 stack for location 3\n",
      "For Cycle4 detected subpixel offset (0.0, 0.0) between level 1 and level 4 stack for location 3\n",
      "For Cycle4 detected subpixel offset (0.0, 0.0) between level 1 and level 5 stack for location 3\n",
      "For Cycle4 detected subpixel offset (0.0, 0.0) between level 1 and level 6 stack for location 3\n",
      "For Cycle5 detected subpixel offset (0.0, 0.0) between level 1 and level 2 stack for location 3\n",
      "For Cycle5 detected subpixel offset (0.0, 1.0) between level 1 and level 3 stack for location 3\n",
      "For Cycle5 detected subpixel offset (0.0, 0.0) between level 1 and level 4 stack for location 3\n",
      "For Cycle5 detected subpixel offset (0.0, 0.0) between level 1 and level 5 stack for location 3\n",
      "For Cycle5 detected subpixel offset (0.0, 0.0) between level 1 and level 6 stack for location 3\n",
      "For Cycle5 detected subpixel offset (0.0, 0.0) between level 1 and level 7 stack for location 3\n",
      "For Cycle5 detected subpixel offset (0.0, 0.0) between level 1 and level 8 stack for location 3\n",
      "For Cycle5 detected subpixel offset (0.0, 0.0) between level 1 and level 9 stack for location 3\n",
      "For Cycle5 detected subpixel offset (0.0, 0.0) between level 1 and level 10 stack for location 3\n",
      "For Cycle6 detected subpixel offset (0.0, 0.0) between level 1 and level 2 stack for location 3\n",
      "For Cycle6 detected subpixel offset (0.0, 0.0) between level 1 and level 3 stack for location 3\n",
      "For Cycle6 detected subpixel offset (0.0, 0.0) between level 1 and level 4 stack for location 3\n",
      "For Cycle6 detected subpixel offset (0.0, 0.0) between level 1 and level 5 stack for location 3\n",
      "For Cycle6 detected subpixel offset (0.0, 0.0) between level 1 and level 6 stack for location 3\n",
      "For Cycle7 detected subpixel offset (0.0, 0.0) between level 1 and level 2 stack for location 3\n",
      "For Cycle7 detected subpixel offset (0.0, 0.0) between level 1 and level 3 stack for location 3\n",
      "For Cycle7 detected subpixel offset (0.0, 0.0) between level 1 and level 4 stack for location 3\n",
      "For Cycle7 detected subpixel offset (0.0, 0.0) between level 1 and level 5 stack for location 3\n",
      "For Cycle7 detected subpixel offset (0.0, 0.0) between level 1 and level 6 stack for location 3\n",
      "For Cycle8 detected subpixel offset (0.0, 0.0) between level 1 and level 2 stack for location 3\n",
      "For Cycle8 detected subpixel offset (0.0, 0.0) between level 1 and level 3 stack for location 3\n"
     ]
    },
    {
     "name": "stdout",
     "output_type": "stream",
     "text": [
      "For Cycle8 detected subpixel offset (0.0, 0.0) between level 1 and level 4 stack for location 3\n",
      "For Cycle8 detected subpixel offset (0.0, 0.0) between level 1 and level 5 stack for location 3\n",
      "For Cycle8 detected subpixel offset (0.0, 0.0) between level 1 and level 6 stack for location 3\n",
      "For Cycle8 detected subpixel offset (0.0, 0.0) between level 1 and level 7 stack for location 3\n",
      "For Cycle8 detected subpixel offset (0.0, 0.0) between level 1 and level 8 stack for location 3\n",
      "For Cycle8 detected subpixel offset (0.0, 0.0) between level 1 and level 9 stack for location 3\n",
      "For Cycle8 detected subpixel offset (0.0, 0.0) between level 1 and level 10 stack for location 3\n"
     ]
    }
   ],
   "source": [
    "get_shift_within_cycle(df)"
   ]
  },
  {
   "cell_type": "code",
   "execution_count": 11,
   "metadata": {
    "ExecuteTime": {
     "end_time": "2020-12-29T02:19:24.484572Z",
     "start_time": "2020-12-29T02:19:06.037611Z"
    }
   },
   "outputs": [
    {
     "name": "stdout",
     "output_type": "stream",
     "text": [
      "For Cycle2 detected subpixel offset (0.0, 15.0) compared to Cycle1 for location 1\n",
      "For Cycle3 detected subpixel offset (-4.0, 7.0) compared to Cycle1 for location 1\n",
      "For Cycle4 detected subpixel offset (15.0, 13.0) compared to Cycle1 for location 1\n",
      "For Cycle5 detected subpixel offset (-4.0, 12.0) compared to Cycle1 for location 1\n",
      "For Cycle6 detected subpixel offset (6.0, -12.0) compared to Cycle1 for location 1\n",
      "For Cycle7 detected subpixel offset (4.0, -19.0) compared to Cycle1 for location 1\n",
      "For Cycle8 detected subpixel offset (-2.0, 0.0) compared to Cycle1 for location 1\n",
      "For Cycle2 detected subpixel offset (-30.0, -8.0) compared to Cycle1 for location 2\n",
      "For Cycle3 detected subpixel offset (0.0, 2.0) compared to Cycle1 for location 2\n",
      "For Cycle4 detected subpixel offset (14.0, 20.0) compared to Cycle1 for location 2\n",
      "For Cycle5 detected subpixel offset (0.0, -11.0) compared to Cycle1 for location 2\n",
      "For Cycle6 detected subpixel offset (11.0, 0.0) compared to Cycle1 for location 2\n",
      "For Cycle7 detected subpixel offset (3.0, 6.0) compared to Cycle1 for location 2\n",
      "For Cycle8 detected subpixel offset (-5.0, 3.0) compared to Cycle1 for location 2\n",
      "For Cycle2 detected subpixel offset (5.0, 6.0) compared to Cycle1 for location 3\n",
      "For Cycle3 detected subpixel offset (8.0, -2.0) compared to Cycle1 for location 3\n",
      "For Cycle4 detected subpixel offset (19.0, -5.0) compared to Cycle1 for location 3\n",
      "For Cycle5 detected subpixel offset (-2.0, 22.0) compared to Cycle1 for location 3\n",
      "For Cycle6 detected subpixel offset (9.0, -13.0) compared to Cycle1 for location 3\n",
      "For Cycle7 detected subpixel offset (-2.0, 1.0) compared to Cycle1 for location 3\n",
      "For Cycle8 detected subpixel offset (-8.0, 2.0) compared to Cycle1 for location 3\n"
     ]
    }
   ],
   "source": [
    "shift_dict = get_shift_between_cycle(df)"
   ]
  },
  {
   "cell_type": "code",
   "execution_count": 14,
   "metadata": {
    "ExecuteTime": {
     "end_time": "2020-12-29T02:29:41.361802Z",
     "start_time": "2020-12-29T02:25:02.078403Z"
    }
   },
   "outputs": [],
   "source": [
    "shift_crop(df, shift_dict)"
   ]
  },
  {
   "cell_type": "markdown",
   "metadata": {},
   "source": [
    "# Combine z_stack "
   ]
  },
  {
   "cell_type": "code",
   "execution_count": 17,
   "metadata": {
    "ExecuteTime": {
     "end_time": "2020-12-29T02:44:27.251514Z",
     "start_time": "2020-12-29T02:44:27.088515Z"
    }
   },
   "outputs": [],
   "source": [
    "def get_maximum_projection(df, img_folder, save=False):\n",
    "    # Read condition and cycles name\n",
    "    conditions = df.Location.unique()\n",
    "    cycles = df.Cycle.unique()\n",
    "\n",
    "    # Loop through condition and cycle pair\n",
    "    for ele in itertools.product(conditions,cycles):\n",
    "        condition = ele[0]\n",
    "        cycle = ele[1]\n",
    "\n",
    "        # Extract dataset  \n",
    "        df_subset = df[(df.Cycle == cycle) & (df.Location == condition)] \n",
    "        for marker in df_subset.Marker.unique():\n",
    "            df_channel = df_subset[df_subset.Marker == marker]\n",
    "            imgs = None\n",
    "            for row in df_channel.itertuples():\n",
    "                img = skimage.io.imread(row.Path_corrected)\n",
    "                imgs = np.concatenate((imgs, img[np.newaxis,:,:]), axis = 0) if not (imgs is None) else img[np.newaxis,:,:]\n",
    "\n",
    "            # Save image\n",
    "            img_combined = np.amax(imgs, axis=0, keepdims=True)[0]\n",
    "            filename = '_'.join([row.Location, 'Combined', row.Cycle, row.Marker])\n",
    "            path = os.path.join(img_folder, filename+'.tiff')\n",
    "            cv2.imwrite(path, img_combined)\n",
    "\n",
    "            # Append dataframe\n",
    "            new_row = {\n",
    "                'Cycle': row.Cycle, \n",
    "                'Location': row.Location,\n",
    "                'Z_stack': 'Combined',\n",
    "                'Channel': row.Channel,\n",
    "                'Marker': row.Marker,\n",
    "                'Path': '',\n",
    "                'Path_corrected': path\n",
    "            }\n",
    "\n",
    "\n",
    "            df = df.append(new_row, ignore_index = True)\n",
    "\n",
    "    if save:\n",
    "        df.to_csv(csv_file, index=False)  "
   ]
  },
  {
   "cell_type": "code",
   "execution_count": 18,
   "metadata": {
    "ExecuteTime": {
     "end_time": "2020-12-29T02:47:10.036529Z",
     "start_time": "2020-12-29T02:44:33.288342Z"
    },
    "scrolled": false
   },
   "outputs": [],
   "source": [
    "get_maximum_projection(df, data_processed, save=True)"
   ]
  },
  {
   "cell_type": "code",
   "execution_count": null,
   "metadata": {},
   "outputs": [],
   "source": []
  }
 ],
 "metadata": {
  "kernelspec": {
   "display_name": "Python 3",
   "language": "python",
   "name": "python3"
  },
  "language_info": {
   "codemirror_mode": {
    "name": "ipython",
    "version": 3
   },
   "file_extension": ".py",
   "mimetype": "text/x-python",
   "name": "python",
   "nbconvert_exporter": "python",
   "pygments_lexer": "ipython3",
   "version": "3.6.10"
  },
  "toc": {
   "base_numbering": 1,
   "nav_menu": {},
   "number_sections": true,
   "sideBar": true,
   "skip_h1_title": false,
   "title_cell": "Table of Contents",
   "title_sidebar": "Contents",
   "toc_cell": false,
   "toc_position": {},
   "toc_section_display": true,
   "toc_window_display": false
  },
  "varInspector": {
   "cols": {
    "lenName": 16,
    "lenType": 16,
    "lenVar": 40
   },
   "kernels_config": {
    "python": {
     "delete_cmd_postfix": "",
     "delete_cmd_prefix": "del ",
     "library": "var_list.py",
     "varRefreshCmd": "print(var_dic_list())"
    },
    "r": {
     "delete_cmd_postfix": ") ",
     "delete_cmd_prefix": "rm(",
     "library": "var_list.r",
     "varRefreshCmd": "cat(var_dic_list()) "
    }
   },
   "types_to_exclude": [
    "module",
    "function",
    "builtin_function_or_method",
    "instance",
    "_Feature"
   ],
   "window_display": false
  }
 },
 "nbformat": 4,
 "nbformat_minor": 4
}
